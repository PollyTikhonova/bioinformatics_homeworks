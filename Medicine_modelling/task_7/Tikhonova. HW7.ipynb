{
 "cells": [
  {
   "cell_type": "markdown",
   "metadata": {},
   "source": [
    "<h3><a href=\"https://pollytikhonova.github.io/bioinformatics_homeworks/Medicine_modelling\"><img src=\"https://pollytikhonova.github.io/bioinformatics_homeworks/GitHub-Mark-32px.png\" alt=\"Вернуться в репозиторий\" title=\"Вернуться в репозиторий\" style=\"max-width:100%;  display: inline-block; margin-right: 10px;\"></a>\n",
    "Tikhonova Polina. Homework 7. </h3>"
   ]
  },
  {
   "cell_type": "code",
   "execution_count": 1,
   "metadata": {
    "collapsed": true
   },
   "outputs": [],
   "source": [
    "import numpy as np\n",
    "import copy\n",
    "\n",
    "# Отображение структур\n",
    "import IPython.display\n",
    "import ipywidgets\n",
    "from IPython.display import display,display_svg,SVG,Image, HTML\n",
    "\n",
    "# Open Drug Discovery Toolkit\n",
    "import oddt\n",
    "import oddt.docking\n",
    "import oddt.interactions\n",
    "\n",
    "# Органика\n",
    "from rdkit.Chem import Draw\n",
    "from rdkit.Chem.Draw import IPythonConsole\n",
    "\n",
    "import pmx # Модуль для манипулирования pdb "
   ]
  },
  {
   "cell_type": "code",
   "execution_count": 2,
   "metadata": {},
   "outputs": [
    {
     "name": "stdout",
     "output_type": "stream",
     "text": [
      "<Molecule: id = 136 name = LYS chain_id =    natoms = 9>\n",
      "<Molecule: id = 137 name = ASP chain_id =    natoms = 8>\n",
      "<Molecule: id = 138 name = LEU chain_id =    natoms = 8>\n",
      "<Molecule: id = 139 name = SER chain_id =    natoms = 6>\n",
      "<Molecule: id = 140 name = LYS chain_id =    natoms = 9>\n",
      "<Molecule: id = 141 name = TYR chain_id =    natoms = 12>\n",
      "<Molecule: id = 142 name = LEU chain_id =    natoms = 8>\n",
      "<Molecule: id = 143 name = GLU chain_id =    natoms = 9>\n",
      "<Molecule: id = 144 name = GLY chain_id =    natoms = 4>\n",
      "<Molecule: id = 145 name = CYS chain_id =    natoms = 6>\n",
      "<Molecule: id = 146 name = HIS chain_id =    natoms = 10>\n",
      "<Molecule: id = 147 name = LEU chain_id =    natoms = 9>\n",
      "<Molecule: id = 148 name = NAG chain_id =    natoms = 14>\n",
      "<Molecule: id = 149 name = NAG chain_id =    natoms = 14>\n",
      "<Molecule: id = 150 name = NDG chain_id =    natoms = 15>\n"
     ]
    }
   ],
   "source": [
    "pdb=pmx.Model('with_ligand.B99990001.pdb')\n",
    "\n",
    "for r in pdb.residues[135:]:\n",
    "    print r #посмотрим остатки"
   ]
  },
  {
   "cell_type": "code",
   "execution_count": 3,
   "metadata": {},
   "outputs": [
    {
     "data": {
      "text/html": [
       "<b>New pdb</b>"
      ],
      "text/plain": [
       "<IPython.core.display.HTML object>"
      ]
     },
     "metadata": {},
     "output_type": "display_data"
    },
    {
     "name": "stdout",
     "output_type": "stream",
     "text": [
      "<Molecule: id = 136 name = LYS chain_id =    natoms = 9>\n",
      "<Molecule: id = 137 name = ASP chain_id =    natoms = 8>\n",
      "<Molecule: id = 138 name = LEU chain_id =    natoms = 8>\n",
      "<Molecule: id = 139 name = SER chain_id =    natoms = 6>\n",
      "<Molecule: id = 140 name = LYS chain_id =    natoms = 9>\n",
      "<Molecule: id = 141 name = TYR chain_id =    natoms = 12>\n",
      "<Molecule: id = 142 name = LEU chain_id =    natoms = 8>\n",
      "<Molecule: id = 143 name = GLU chain_id =    natoms = 9>\n",
      "<Molecule: id = 144 name = GLY chain_id =    natoms = 4>\n",
      "<Molecule: id = 145 name = CYS chain_id =    natoms = 6>\n",
      "<Molecule: id = 146 name = HIS chain_id =    natoms = 10>\n",
      "<Molecule: id = 147 name = LEU chain_id =    natoms = 9>\n"
     ]
    },
    {
     "data": {
      "text/html": [
       "<b>Ligand</b>"
      ],
      "text/plain": [
       "<IPython.core.display.HTML object>"
      ]
     },
     "metadata": {},
     "output_type": "display_data"
    },
    {
     "name": "stdout",
     "output_type": "stream",
     "text": [
      "<Molecule: id = 148 name = NAG chain_id =    natoms = 14>\n",
      "<Molecule: id = 149 name = NAG chain_id =    natoms = 14>\n",
      "<Molecule: id = 150 name = NDG chain_id =    natoms = 15>\n"
     ]
    }
   ],
   "source": [
    "# создание объектов белок и лиганда\n",
    "newpdb = pdb.copy()\n",
    "for r in newpdb.residues[-3:]:\n",
    "    newpdb.remove_residue(r)\n",
    "lig = pdb.copy()\n",
    "del lig.residues[:-3]\n",
    "for a in lig.atoms:\n",
    "   a.x\n",
    "display(HTML('<b>New pdb</b>'))\n",
    "for r in newpdb.residues[135:]:\n",
    "    print r #посмотрим остатки\n",
    "    \n",
    "display(HTML('<b>Ligand</b>'))\n",
    "for r in lig.residues:\n",
    "    print r #посмотрим остатки"
   ]
  },
  {
   "cell_type": "code",
   "execution_count": 4,
   "metadata": {
    "collapsed": true
   },
   "outputs": [],
   "source": [
    "coordinates = [a.x for a in lig.atoms]\n",
    "center = np.mean(coordinates, axis=0)"
   ]
  },
  {
   "cell_type": "code",
   "execution_count": 5,
   "metadata": {
    "collapsed": true
   },
   "outputs": [],
   "source": [
    "newpdb.writePDB('my_prot.pdb')"
   ]
  },
  {
   "cell_type": "markdown",
   "metadata": {},
   "source": [
    "### Подготовка белка для докинга"
   ]
  },
  {
   "cell_type": "code",
   "execution_count": 6,
   "metadata": {},
   "outputs": [
    {
     "name": "stdout",
     "output_type": "stream",
     "text": [
      "Is it the first mol in 1lmp is protein? False :) and MW of this mol is: 16831.041\n"
     ]
    }
   ],
   "source": [
    "prot = oddt.toolkit.readfile('pdb','my_prot.pdb').next()\n",
    "\n",
    "prot.OBMol.AddPolarHydrogens()\n",
    "prot.OBMol.AutomaticPartialCharge()\n",
    "\n",
    "print 'Is it the first mol in 1lmp is protein?',prot.protein,':) and MW of this mol is:', prot.molwt "
   ]
  },
  {
   "cell_type": "code",
   "execution_count": 7,
   "metadata": {},
   "outputs": [
    {
     "data": {
      "image/svg+xml": [
       "<svg height=\"200px\" id=\"topsvg\" version=\"1.1\" viewBox=\"0 0 100 100\" width=\"200px\" x=\"0\" xmlns=\"http://www.w3.org/2000/svg\" xmlns:cml=\"http://www.xml-cml.org/schema\" xmlns:xlink=\"http://www.w3.org/1999/xlink\" y=\"0\">\n",
       "<title>***** - Open Babel Depiction</title>\n",
       "<rect fill=\"white\" height=\"100\" width=\"100\" x=\"0\" y=\"0\"/>\n",
       "<g transform=\"translate(0,0)\">\n",
       "<svg font-family=\"sans-serif\" height=\"100\" stroke=\"rgb(0,0,0)\" stroke-linecap=\"round\" stroke-width=\"2\" viewBox=\"0 0 287.846 280\" width=\"100\" x=\"0\" y=\"0\">\n",
       "<line stroke=\"rgb(0,0,0)\" stroke-width=\"2.0\" x1=\"236.6\" x2=\"213.2\" y1=\"173.5\" y2=\"160.0\"/>\n",
       "<line stroke=\"rgb(0,0,0)\" stroke-width=\"2.0\" x1=\"210.2\" x2=\"210.2\" y1=\"160.0\" y2=\"133.0\"/>\n",
       "<line stroke=\"rgb(0,0,0)\" stroke-width=\"2.0\" x1=\"216.2\" x2=\"216.2\" y1=\"160.0\" y2=\"133.0\"/>\n",
       "<line stroke=\"rgb(0,0,0)\" stroke-width=\"2.0\" x1=\"213.2\" x2=\"189.8\" y1=\"160.0\" y2=\"173.5\"/>\n",
       "<polygon fill=\"rgb(0,0,0)\" points=\"143.923048 160.000000 169.132529 169.935898 165.132529 176.864102 \" stroke=\"rgb(0,0,0)\" stroke-width=\"2.000000\"/>\n",
       "<line stroke=\"rgb(0,0,0)\" stroke-width=\"1.0\" x1=\"67.3\" x2=\"68.1\" y1=\"116.7\" y2=\"115.3\"/>\n",
       "<line stroke=\"rgb(0,0,0)\" stroke-width=\"1.0\" x1=\"61.5\" x2=\"62.9\" y1=\"114.0\" y2=\"111.6\"/>\n",
       "<line stroke=\"rgb(0,0,0)\" stroke-width=\"1.0\" x1=\"55.6\" x2=\"57.7\" y1=\"111.4\" y2=\"107.8\"/>\n",
       "<line stroke=\"rgb(0,0,0)\" stroke-width=\"1.0\" x1=\"49.7\" x2=\"52.4\" y1=\"108.8\" y2=\"104.0\"/>\n",
       "<line stroke=\"rgb(0,0,0)\" stroke-width=\"1.0\" x1=\"43.9\" x2=\"47.2\" y1=\"106.1\" y2=\"100.3\"/>\n",
       "<line stroke=\"rgb(0,0,0)\" stroke-width=\"1.0\" x1=\"38.0\" x2=\"42.0\" y1=\"103.5\" y2=\"96.5\"/>\n",
       "<line stroke=\"rgb(0,0,0)\" stroke-width=\"2.0\" x1=\"40.0\" x2=\"40.0\" y1=\"100.0\" y2=\"73.0\"/>\n",
       "<line stroke=\"rgb(0,0,0)\" stroke-width=\"1.0\" x1=\"148.2\" x2=\"149.0\" y1=\"116.6\" y2=\"118.0\"/>\n",
       "<line stroke=\"rgb(0,0,0)\" stroke-width=\"1.0\" x1=\"151.6\" x2=\"153.0\" y1=\"113.9\" y2=\"116.4\"/>\n",
       "<line stroke=\"rgb(0,0,0)\" stroke-width=\"1.0\" x1=\"155.0\" x2=\"157.0\" y1=\"111.2\" y2=\"114.8\"/>\n",
       "<line stroke=\"rgb(0,0,0)\" stroke-width=\"1.0\" x1=\"158.3\" x2=\"161.1\" y1=\"108.5\" y2=\"113.2\"/>\n",
       "<line stroke=\"rgb(0,0,0)\" stroke-width=\"1.0\" x1=\"161.7\" x2=\"165.1\" y1=\"105.8\" y2=\"111.7\"/>\n",
       "<line stroke=\"rgb(0,0,0)\" stroke-width=\"1.0\" x1=\"165.1\" x2=\"169.1\" y1=\"103.1\" y2=\"110.1\"/>\n",
       "<line stroke=\"rgb(0,0,0)\" stroke-width=\"1.0\" x1=\"110.1\" x2=\"108.5\" y1=\"185.4\" y2=\"185.4\"/>\n",
       "<line stroke=\"rgb(0,0,0)\" stroke-width=\"1.0\" x1=\"110.7\" x2=\"107.8\" y1=\"189.6\" y2=\"189.6\"/>\n",
       "<line stroke=\"rgb(0,0,0)\" stroke-width=\"1.0\" x1=\"111.4\" x2=\"107.2\" y1=\"193.9\" y2=\"193.9\"/>\n",
       "<line stroke=\"rgb(0,0,0)\" stroke-width=\"1.0\" x1=\"112.0\" x2=\"106.6\" y1=\"198.2\" y2=\"198.2\"/>\n",
       "<line stroke=\"rgb(0,0,0)\" stroke-width=\"1.0\" x1=\"112.6\" x2=\"105.9\" y1=\"202.5\" y2=\"202.5\"/>\n",
       "<line stroke=\"rgb(0,0,0)\" stroke-width=\"1.0\" x1=\"113.3\" x2=\"105.3\" y1=\"206.8\" y2=\"206.8\"/>\n",
       "<polygon fill=\"rgb(0,0,0)\" points=\"109.282032 100.000000 105.282032 73.200000 113.282032 73.200000 \" stroke=\"rgb(0,0,0)\" stroke-width=\"2.000000\"/>\n",
       "<line stroke=\"rgb(0,0,0)\" stroke-width=\"2.0\" x1=\"178.6\" x2=\"178.6\" y1=\"193.0\" y2=\"207.0\"/>\n",
       "<line stroke=\"rgb(0,0,0)\" stroke-width=\"2.0\" x1=\"98.0\" x2=\"85.9\" y1=\"226.5\" y2=\"233.5\"/>\n",
       "<line stroke=\"rgb(0,0,0)\" stroke-width=\"2.0\" x1=\"51.3\" x2=\"63.4\" y1=\"53.5\" y2=\"46.5\"/>\n",
       "<line stroke=\"rgb(0,0,0)\" stroke-width=\"2.0\" x1=\"120.5\" x2=\"132.7\" y1=\"53.5\" y2=\"46.5\"/>\n",
       "<line stroke=\"rgb(0,0,0)\" stroke-width=\"2.0\" x1=\"178.6\" x2=\"178.6\" y1=\"87.0\" y2=\"73.0\"/>\n",
       "<line stroke=\"rgb(0,0,0)\" stroke-width=\"2.0\" x1=\"109.3\" x2=\"143.9\" y1=\"180.0\" y2=\"160.0\"/>\n",
       "<line stroke=\"rgb(0,0,0)\" stroke-width=\"2.0\" x1=\"143.9\" x2=\"143.9\" y1=\"160.0\" y2=\"120.0\"/>\n",
       "<line stroke=\"rgb(0,0,0)\" stroke-width=\"2.0\" x1=\"143.9\" x2=\"109.3\" y1=\"120.0\" y2=\"100.0\"/>\n",
       "<line stroke=\"rgb(0,0,0)\" stroke-width=\"2.0\" x1=\"109.3\" x2=\"74.6\" y1=\"100.0\" y2=\"120.0\"/>\n",
       "<line stroke=\"rgb(0,0,0)\" stroke-width=\"2.0\" x1=\"74.6\" x2=\"74.6\" y1=\"120.0\" y2=\"147.0\"/>\n",
       "<line stroke=\"rgb(0,0,0)\" stroke-width=\"2.0\" x1=\"85.9\" x2=\"109.3\" y1=\"166.5\" y2=\"180.0\"/>\n",
       "<text fill=\"rgb(255,12,12)\" font-size=\"16\" stroke=\"rgb(255,12,12)\" stroke-width=\"1\" x=\"34.000000\" y=\"68.000000\">O</text>\n",
       "<text fill=\"rgb(191,191,191)\" font-size=\"16\" stroke=\"rgb(191,191,191)\" stroke-width=\"1\" x=\"172.564065\" y=\"68.000000\">H</text>\n",
       "<text fill=\"rgb(191,191,191)\" font-size=\"16\" stroke=\"rgb(191,191,191)\" stroke-width=\"1\" x=\"137.923048\" y=\"48.000000\">H</text>\n",
       "<text fill=\"rgb(191,191,191)\" font-size=\"16\" stroke=\"rgb(191,191,191)\" stroke-width=\"1\" x=\"68.641016\" y=\"48.000000\">H</text>\n",
       "<text fill=\"rgb(191,191,191)\" font-size=\"16\" stroke=\"rgb(191,191,191)\" stroke-width=\"1\" x=\"68.641016\" y=\"248.000000\">H</text>\n",
       "<text fill=\"rgb(191,191,191)\" font-size=\"16\" stroke=\"rgb(191,191,191)\" stroke-width=\"1\" x=\"172.564065\" y=\"228.000000\">H</text>\n",
       "<text fill=\"rgb(255,12,12)\" font-size=\"16\" stroke=\"rgb(255,12,12)\" stroke-width=\"1\" x=\"172.564065\" y=\"108.000000\">O</text>\n",
       "<text fill=\"rgb(255,12,12)\" font-size=\"16\" stroke=\"rgb(255,12,12)\" stroke-width=\"1\" x=\"103.282032\" y=\"68.000000\">O</text>\n",
       "<text fill=\"rgb(102,102,102)\" font-size=\"16\" stroke=\"rgb(102,102,102)\" stroke-width=\"1\" x=\"243.846097\" y=\"188.000000\">CH</text>\n",
       "<text fill=\"rgb(102,102,102)\" font-size=\"13\" stroke=\"rgb(102,102,102)\" stroke-width=\"1\" x=\"267.846097\" y=\"191.680000\">3</text>\n",
       "<text fill=\"rgb(255,12,12)\" font-size=\"16\" stroke=\"rgb(255,12,12)\" stroke-width=\"1\" x=\"68.641016\" y=\"168.000000\">O</text>\n",
       "<text fill=\"rgb(255,12,12)\" font-size=\"16\" stroke=\"rgb(255,12,12)\" stroke-width=\"1\" x=\"103.282032\" y=\"228.000000\">O</text>\n",
       "<text fill=\"rgb(12,12,255)\" font-size=\"16\" stroke=\"rgb(12,12,255)\" stroke-width=\"1\" x=\"172.564065\" y=\"188.000000\">N</text>\n",
       "<text fill=\"rgb(255,12,12)\" font-size=\"16\" stroke=\"rgb(255,12,12)\" stroke-width=\"1\" x=\"207.205081\" y=\"128.000000\">O</text>\n",
       "</svg>\n",
       "</g>\n",
       "<text fill=\"black\" font-family=\"sans-serif\" font-size=\"18.000000\" x=\"10.000000\" y=\"20.000000\">*****</text>\n",
       "</svg>"
      ]
     },
     "metadata": {},
     "output_type": "display_data"
    },
    {
     "data": {
      "image/svg+xml": [
       "<svg height=\"200px\" id=\"topsvg\" version=\"1.1\" viewBox=\"0 0 100 100\" width=\"200px\" x=\"0\" xmlns=\"http://www.w3.org/2000/svg\" xmlns:cml=\"http://www.xml-cml.org/schema\" xmlns:xlink=\"http://www.w3.org/1999/xlink\" y=\"0\">\n",
       "<title>***** - Open Babel Depiction</title>\n",
       "<rect fill=\"white\" height=\"100\" width=\"100\" x=\"0\" y=\"0\"/>\n",
       "<g transform=\"translate(0,0)\">\n",
       "<svg font-family=\"sans-serif\" height=\"100\" stroke=\"rgb(0,0,0)\" stroke-linecap=\"round\" stroke-width=\"2\" viewBox=\"0 0 253.205 380\" width=\"100\" x=\"0\" y=\"0\">\n",
       "<line stroke=\"rgb(0,0,0)\" stroke-width=\"2.0\" x1=\"143.9\" x2=\"143.9\" y1=\"307.0\" y2=\"280.0\"/>\n",
       "<line stroke=\"rgb(0,0,0)\" stroke-width=\"2.0\" x1=\"142.4\" x2=\"165.8\" y1=\"277.4\" y2=\"263.9\"/>\n",
       "<line stroke=\"rgb(0,0,0)\" stroke-width=\"2.0\" x1=\"145.4\" x2=\"168.8\" y1=\"282.6\" y2=\"269.1\"/>\n",
       "<line stroke=\"rgb(0,0,0)\" stroke-width=\"2.0\" x1=\"143.9\" x2=\"120.5\" y1=\"280.0\" y2=\"266.5\"/>\n",
       "<line stroke=\"rgb(0,0,0)\" stroke-width=\"1.0\" x1=\"110.1\" x2=\"108.5\" y1=\"225.4\" y2=\"225.4\"/>\n",
       "<line stroke=\"rgb(0,0,0)\" stroke-width=\"1.0\" x1=\"110.7\" x2=\"107.8\" y1=\"229.6\" y2=\"229.6\"/>\n",
       "<line stroke=\"rgb(0,0,0)\" stroke-width=\"1.0\" x1=\"111.4\" x2=\"107.2\" y1=\"233.9\" y2=\"233.9\"/>\n",
       "<line stroke=\"rgb(0,0,0)\" stroke-width=\"1.0\" x1=\"112.0\" x2=\"106.6\" y1=\"238.2\" y2=\"238.2\"/>\n",
       "<line stroke=\"rgb(0,0,0)\" stroke-width=\"1.0\" x1=\"112.6\" x2=\"105.9\" y1=\"242.5\" y2=\"242.5\"/>\n",
       "<line stroke=\"rgb(0,0,0)\" stroke-width=\"1.0\" x1=\"113.3\" x2=\"105.3\" y1=\"246.8\" y2=\"246.8\"/>\n",
       "<polygon fill=\"rgb(0,0,0)\" points=\"109.282032 140.000000 105.282032 100.000000 113.282032 100.000000 \" stroke=\"rgb(0,0,0)\" stroke-width=\"2.000000\"/>\n",
       "<line stroke=\"rgb(0,0,0)\" stroke-width=\"2.0\" x1=\"109.3\" x2=\"85.9\" y1=\"100.0\" y2=\"86.5\"/>\n",
       "<polygon fill=\"rgb(0,0,0)\" points=\"74.641016 200.000000 53.431535 216.864102 49.431535 209.935898 \" stroke=\"rgb(0,0,0)\" stroke-width=\"2.000000\"/>\n",
       "<line stroke=\"rgb(0,0,0)\" stroke-width=\"1.0\" x1=\"69.6\" x2=\"70.4\" y1=\"158.0\" y2=\"156.6\"/>\n",
       "<line stroke=\"rgb(0,0,0)\" stroke-width=\"1.0\" x1=\"65.6\" x2=\"67.0\" y1=\"156.4\" y2=\"153.9\"/>\n",
       "<line stroke=\"rgb(0,0,0)\" stroke-width=\"1.0\" x1=\"61.5\" x2=\"63.6\" y1=\"154.8\" y2=\"151.2\"/>\n",
       "<line stroke=\"rgb(0,0,0)\" stroke-width=\"1.0\" x1=\"57.5\" x2=\"60.2\" y1=\"153.2\" y2=\"148.5\"/>\n",
       "<line stroke=\"rgb(0,0,0)\" stroke-width=\"1.0\" x1=\"53.5\" x2=\"56.8\" y1=\"151.7\" y2=\"145.8\"/>\n",
       "<line stroke=\"rgb(0,0,0)\" stroke-width=\"1.0\" x1=\"49.4\" x2=\"53.4\" y1=\"150.1\" y2=\"143.1\"/>\n",
       "<polygon fill=\"rgb(0,0,0)\" points=\"143.923048 200.000000 169.132529 209.935898 165.132529 216.864102 \" stroke=\"rgb(0,0,0)\" stroke-width=\"2.000000\"/>\n",
       "<line stroke=\"rgb(0,0,0)\" stroke-width=\"2.0\" x1=\"132.7\" x2=\"120.5\" y1=\"326.5\" y2=\"333.5\"/>\n",
       "<line stroke=\"rgb(0,0,0)\" stroke-width=\"2.0\" x1=\"98.0\" x2=\"85.9\" y1=\"266.5\" y2=\"273.5\"/>\n",
       "<line stroke=\"rgb(0,0,0)\" stroke-width=\"2.0\" x1=\"189.8\" x2=\"201.9\" y1=\"213.5\" y2=\"206.5\"/>\n",
       "<line stroke=\"rgb(0,0,0)\" stroke-width=\"2.0\" x1=\"74.6\" x2=\"74.6\" y1=\"67.0\" y2=\"53.0\"/>\n",
       "<line stroke=\"rgb(0,0,0)\" stroke-width=\"2.0\" x1=\"40.0\" x2=\"40.0\" y1=\"127.0\" y2=\"113.0\"/>\n",
       "<line stroke=\"rgb(0,0,0)\" stroke-width=\"2.0\" x1=\"40.0\" x2=\"40.0\" y1=\"233.0\" y2=\"247.0\"/>\n",
       "<line stroke=\"rgb(0,0,0)\" stroke-width=\"2.0\" x1=\"143.9\" x2=\"109.3\" y1=\"200.0\" y2=\"220.0\"/>\n",
       "<line stroke=\"rgb(0,0,0)\" stroke-width=\"2.0\" x1=\"109.3\" x2=\"74.6\" y1=\"220.0\" y2=\"200.0\"/>\n",
       "<line stroke=\"rgb(0,0,0)\" stroke-width=\"2.0\" x1=\"74.6\" x2=\"74.6\" y1=\"200.0\" y2=\"160.0\"/>\n",
       "<line stroke=\"rgb(0,0,0)\" stroke-width=\"2.0\" x1=\"74.6\" x2=\"109.3\" y1=\"160.0\" y2=\"140.0\"/>\n",
       "<line stroke=\"rgb(0,0,0)\" stroke-width=\"2.0\" x1=\"109.3\" x2=\"132.7\" y1=\"140.0\" y2=\"153.5\"/>\n",
       "<line stroke=\"rgb(0,0,0)\" stroke-width=\"2.0\" x1=\"143.9\" x2=\"143.9\" y1=\"173.0\" y2=\"200.0\"/>\n",
       "<text fill=\"rgb(255,12,12)\" font-size=\"16\" stroke=\"rgb(255,12,12)\" stroke-width=\"1\" x=\"68.641016\" y=\"88.000000\">O</text>\n",
       "<text fill=\"rgb(191,191,191)\" font-size=\"16\" stroke=\"rgb(191,191,191)\" stroke-width=\"1\" x=\"34.000000\" y=\"268.000000\">H</text>\n",
       "<text fill=\"rgb(191,191,191)\" font-size=\"16\" stroke=\"rgb(191,191,191)\" stroke-width=\"1\" x=\"34.000000\" y=\"108.000000\">H</text>\n",
       "<text fill=\"rgb(191,191,191)\" font-size=\"16\" stroke=\"rgb(191,191,191)\" stroke-width=\"1\" x=\"68.641016\" y=\"48.000000\">H</text>\n",
       "<text fill=\"rgb(191,191,191)\" font-size=\"16\" stroke=\"rgb(191,191,191)\" stroke-width=\"1\" x=\"207.205081\" y=\"208.000000\">H</text>\n",
       "<text fill=\"rgb(191,191,191)\" font-size=\"16\" stroke=\"rgb(191,191,191)\" stroke-width=\"1\" x=\"68.641016\" y=\"288.000000\">H</text>\n",
       "<text fill=\"rgb(191,191,191)\" font-size=\"16\" stroke=\"rgb(191,191,191)\" stroke-width=\"1\" x=\"103.282032\" y=\"348.000000\">H</text>\n",
       "<text fill=\"rgb(255,12,12)\" font-size=\"16\" stroke=\"rgb(255,12,12)\" stroke-width=\"1\" x=\"34.000000\" y=\"228.000000\">O</text>\n",
       "<text fill=\"rgb(255,12,12)\" font-size=\"16\" stroke=\"rgb(255,12,12)\" stroke-width=\"1\" x=\"34.000000\" y=\"148.000000\">O</text>\n",
       "<text fill=\"rgb(255,12,12)\" font-size=\"16\" stroke=\"rgb(255,12,12)\" stroke-width=\"1\" x=\"137.923048\" y=\"328.000000\">O</text>\n",
       "<text fill=\"rgb(255,12,12)\" font-size=\"16\" stroke=\"rgb(255,12,12)\" stroke-width=\"1\" x=\"137.923048\" y=\"168.000000\">O</text>\n",
       "<text fill=\"rgb(255,12,12)\" font-size=\"16\" stroke=\"rgb(255,12,12)\" stroke-width=\"1\" x=\"172.564065\" y=\"228.000000\">O</text>\n",
       "<text fill=\"rgb(12,12,255)\" font-size=\"16\" stroke=\"rgb(12,12,255)\" stroke-width=\"1\" x=\"103.282032\" y=\"268.000000\">N</text>\n",
       "<text fill=\"rgb(255,12,12)\" font-size=\"16\" stroke=\"rgb(255,12,12)\" stroke-width=\"1\" x=\"172.564065\" y=\"268.000000\">O</text>\n",
       "</svg>\n",
       "</g>\n",
       "<text fill=\"black\" font-family=\"sans-serif\" font-size=\"18.000000\" x=\"10.000000\" y=\"20.000000\">*****</text>\n",
       "</svg>"
      ]
     },
     "metadata": {},
     "output_type": "display_data"
    },
    {
     "data": {
      "image/svg+xml": [
       "<svg height=\"200px\" id=\"topsvg\" version=\"1.1\" viewBox=\"0 0 100 100\" width=\"200px\" x=\"0\" xmlns=\"http://www.w3.org/2000/svg\" xmlns:cml=\"http://www.xml-cml.org/schema\" xmlns:xlink=\"http://www.w3.org/1999/xlink\" y=\"0\">\n",
       "<title>***** - Open Babel Depiction</title>\n",
       "<rect fill=\"white\" height=\"100\" width=\"100\" x=\"0\" y=\"0\"/>\n",
       "<g transform=\"translate(0,0)\">\n",
       "<svg font-family=\"sans-serif\" height=\"100\" stroke=\"rgb(0,0,0)\" stroke-linecap=\"round\" stroke-width=\"2\" viewBox=\"0 0 400 287.846\" width=\"100\" x=\"0\" y=\"0\">\n",
       "<line stroke=\"rgb(0,0,0)\" stroke-width=\"2.0\" x1=\"307.0\" x2=\"280.0\" y1=\"109.3\" y2=\"109.3\"/>\n",
       "<line stroke=\"rgb(0,0,0)\" stroke-width=\"2.0\" x1=\"277.4\" x2=\"263.9\" y1=\"110.8\" y2=\"87.4\"/>\n",
       "<line stroke=\"rgb(0,0,0)\" stroke-width=\"2.0\" x1=\"282.6\" x2=\"269.1\" y1=\"107.8\" y2=\"84.4\"/>\n",
       "<line stroke=\"rgb(0,0,0)\" stroke-width=\"2.0\" x1=\"280.0\" x2=\"266.5\" y1=\"109.3\" y2=\"132.7\"/>\n",
       "<line stroke=\"rgb(0,0,0)\" stroke-width=\"1.0\" x1=\"225.4\" x2=\"225.4\" y1=\"143.1\" y2=\"144.7\"/>\n",
       "<line stroke=\"rgb(0,0,0)\" stroke-width=\"1.0\" x1=\"229.6\" x2=\"229.6\" y1=\"142.5\" y2=\"145.4\"/>\n",
       "<line stroke=\"rgb(0,0,0)\" stroke-width=\"1.0\" x1=\"233.9\" x2=\"233.9\" y1=\"141.8\" y2=\"146.0\"/>\n",
       "<line stroke=\"rgb(0,0,0)\" stroke-width=\"1.0\" x1=\"238.2\" x2=\"238.2\" y1=\"141.2\" y2=\"146.6\"/>\n",
       "<line stroke=\"rgb(0,0,0)\" stroke-width=\"1.0\" x1=\"242.5\" x2=\"242.5\" y1=\"140.6\" y2=\"147.3\"/>\n",
       "<line stroke=\"rgb(0,0,0)\" stroke-width=\"1.0\" x1=\"246.8\" x2=\"246.8\" y1=\"139.9\" y2=\"147.9\"/>\n",
       "<polygon fill=\"rgb(0,0,0)\" points=\"140.000000 143.923048 100.000000 147.923048 100.000000 139.923048 \" stroke=\"rgb(0,0,0)\" stroke-width=\"2.000000\"/>\n",
       "<line stroke=\"rgb(0,0,0)\" stroke-width=\"2.0\" x1=\"100.0\" x2=\"86.5\" y1=\"143.9\" y2=\"120.5\"/>\n",
       "<polygon fill=\"rgb(0,0,0)\" points=\"200.000000 178.564065 216.864102 199.773545 209.935898 203.773545 \" stroke=\"rgb(0,0,0)\" stroke-width=\"2.000000\"/>\n",
       "<polygon fill=\"rgb(0,0,0)\" points=\"200.000000 109.282032 209.935898 84.072551 216.864102 88.072551 \" stroke=\"rgb(0,0,0)\" stroke-width=\"2.000000\"/>\n",
       "<line stroke=\"rgb(0,0,0)\" stroke-width=\"1.0\" x1=\"158.0\" x2=\"156.6\" y1=\"183.6\" y2=\"182.8\"/>\n",
       "<line stroke=\"rgb(0,0,0)\" stroke-width=\"1.0\" x1=\"156.4\" x2=\"153.9\" y1=\"187.6\" y2=\"186.2\"/>\n",
       "<line stroke=\"rgb(0,0,0)\" stroke-width=\"1.0\" x1=\"154.8\" x2=\"151.2\" y1=\"191.7\" y2=\"189.6\"/>\n",
       "<line stroke=\"rgb(0,0,0)\" stroke-width=\"1.0\" x1=\"153.2\" x2=\"148.5\" y1=\"195.7\" y2=\"193.0\"/>\n",
       "<line stroke=\"rgb(0,0,0)\" stroke-width=\"1.0\" x1=\"151.7\" x2=\"145.8\" y1=\"199.7\" y2=\"196.4\"/>\n",
       "<line stroke=\"rgb(0,0,0)\" stroke-width=\"1.0\" x1=\"150.1\" x2=\"143.1\" y1=\"203.8\" y2=\"199.8\"/>\n",
       "<line stroke=\"rgb(0,0,0)\" stroke-width=\"2.0\" x1=\"320.0\" x2=\"320.0\" y1=\"122.3\" y2=\"136.3\"/>\n",
       "<line stroke=\"rgb(0,0,0)\" stroke-width=\"2.0\" x1=\"333.0\" x2=\"347.0\" y1=\"109.3\" y2=\"109.3\"/>\n",
       "<line stroke=\"rgb(0,0,0)\" stroke-width=\"2.0\" x1=\"320.0\" x2=\"320.0\" y1=\"96.3\" y2=\"82.3\"/>\n",
       "<line stroke=\"rgb(0,0,0)\" stroke-width=\"2.0\" x1=\"266.5\" x2=\"273.5\" y1=\"155.2\" y2=\"167.3\"/>\n",
       "<line stroke=\"rgb(0,0,0)\" stroke-width=\"2.0\" x1=\"213.5\" x2=\"206.5\" y1=\"63.4\" y2=\"51.3\"/>\n",
       "<line stroke=\"rgb(0,0,0)\" stroke-width=\"2.0\" x1=\"67.0\" x2=\"53.0\" y1=\"109.3\" y2=\"109.3\"/>\n",
       "<line stroke=\"rgb(0,0,0)\" stroke-width=\"2.0\" x1=\"146.5\" x2=\"153.5\" y1=\"224.5\" y2=\"236.6\"/>\n",
       "<line stroke=\"rgb(0,0,0)\" stroke-width=\"2.0\" x1=\"233.0\" x2=\"247.0\" y1=\"213.2\" y2=\"213.2\"/>\n",
       "<line stroke=\"rgb(0,0,0)\" stroke-width=\"2.0\" x1=\"200.0\" x2=\"220.0\" y1=\"109.3\" y2=\"143.9\"/>\n",
       "<line stroke=\"rgb(0,0,0)\" stroke-width=\"2.0\" x1=\"220.0\" x2=\"200.0\" y1=\"143.9\" y2=\"178.6\"/>\n",
       "<line stroke=\"rgb(0,0,0)\" stroke-width=\"2.0\" x1=\"200.0\" x2=\"160.0\" y1=\"178.6\" y2=\"178.6\"/>\n",
       "<line stroke=\"rgb(0,0,0)\" stroke-width=\"2.0\" x1=\"160.0\" x2=\"140.0\" y1=\"178.6\" y2=\"143.9\"/>\n",
       "<line stroke=\"rgb(0,0,0)\" stroke-width=\"2.0\" x1=\"140.0\" x2=\"153.5\" y1=\"143.9\" y2=\"120.5\"/>\n",
       "<line stroke=\"rgb(0,0,0)\" stroke-width=\"2.0\" x1=\"173.0\" x2=\"200.0\" y1=\"109.3\" y2=\"109.3\"/>\n",
       "<text fill=\"rgb(191,191,191)\" font-size=\"16\" stroke=\"rgb(191,191,191)\" stroke-width=\"1\" x=\"254.000000\" y=\"221.205081\">H</text>\n",
       "<text fill=\"rgb(191,191,191)\" font-size=\"16\" stroke=\"rgb(191,191,191)\" stroke-width=\"1\" x=\"154.000000\" y=\"255.846097\">H</text>\n",
       "<text fill=\"rgb(191,191,191)\" font-size=\"16\" stroke=\"rgb(191,191,191)\" stroke-width=\"1\" x=\"34.000000\" y=\"117.282032\">H</text>\n",
       "<text fill=\"rgb(191,191,191)\" font-size=\"16\" stroke=\"rgb(191,191,191)\" stroke-width=\"1\" x=\"194.000000\" y=\"48.000000\">H</text>\n",
       "<text fill=\"rgb(191,191,191)\" font-size=\"16\" stroke=\"rgb(191,191,191)\" stroke-width=\"1\" x=\"274.000000\" y=\"186.564065\">H</text>\n",
       "<text fill=\"rgb(191,191,191)\" font-size=\"16\" stroke=\"rgb(191,191,191)\" stroke-width=\"1\" x=\"314.000000\" y=\"77.282032\">H</text>\n",
       "<text fill=\"rgb(191,191,191)\" font-size=\"16\" stroke=\"rgb(191,191,191)\" stroke-width=\"1\" x=\"354.000000\" y=\"117.282032\">H</text>\n",
       "<text fill=\"rgb(191,191,191)\" font-size=\"16\" stroke=\"rgb(191,191,191)\" stroke-width=\"1\" x=\"314.000000\" y=\"157.282032\">H</text>\n",
       "<text fill=\"rgb(255,12,12)\" font-size=\"16\" stroke=\"rgb(255,12,12)\" stroke-width=\"1\" x=\"214.000000\" y=\"221.205081\">O</text>\n",
       "<text fill=\"rgb(255,12,12)\" font-size=\"16\" stroke=\"rgb(255,12,12)\" stroke-width=\"1\" x=\"134.000000\" y=\"221.205081\">O</text>\n",
       "<text fill=\"rgb(12,12,255)\" font-size=\"16\" stroke=\"rgb(12,12,255)\" stroke-width=\"1\" x=\"314.000000\" y=\"117.282032\">N</text>\n",
       "<text fill=\"rgb(255,12,12)\" font-size=\"16\" stroke=\"rgb(255,12,12)\" stroke-width=\"1\" x=\"74.000000\" y=\"117.282032\">O</text>\n",
       "<text fill=\"rgb(255,12,12)\" font-size=\"16\" stroke=\"rgb(255,12,12)\" stroke-width=\"1\" x=\"154.000000\" y=\"117.282032\">O</text>\n",
       "<text fill=\"rgb(255,12,12)\" font-size=\"16\" stroke=\"rgb(255,12,12)\" stroke-width=\"1\" x=\"214.000000\" y=\"82.641016\">O</text>\n",
       "<text fill=\"rgb(12,12,255)\" font-size=\"16\" stroke=\"rgb(12,12,255)\" stroke-width=\"1\" x=\"254.000000\" y=\"151.923048\">N</text>\n",
       "<text fill=\"rgb(255,12,12)\" font-size=\"16\" stroke=\"rgb(255,12,12)\" stroke-width=\"1\" x=\"254.000000\" y=\"82.641016\">O</text>\n",
       "</svg>\n",
       "</g>\n",
       "<text fill=\"black\" font-family=\"sans-serif\" font-size=\"18.000000\" x=\"10.000000\" y=\"20.000000\">*****</text>\n",
       "</svg>"
      ]
     },
     "metadata": {},
     "output_type": "display_data"
    },
    {
     "data": {
      "image/svg+xml": [
       "<svg height=\"200px\" id=\"topsvg\" version=\"1.1\" viewBox=\"0 0 100 100\" width=\"200px\" x=\"0\" xmlns=\"http://www.w3.org/2000/svg\" xmlns:cml=\"http://www.xml-cml.org/schema\" xmlns:xlink=\"http://www.w3.org/1999/xlink\" y=\"0\">\n",
       "<title>***** - Open Babel Depiction</title>\n",
       "<rect fill=\"white\" height=\"100\" width=\"100\" x=\"0\" y=\"0\"/>\n",
       "<g transform=\"translate(0,0)\">\n",
       "<svg font-family=\"sans-serif\" height=\"100\" stroke=\"rgb(0,0,0)\" stroke-linecap=\"round\" stroke-width=\"2\" viewBox=\"0 0 218.564 360\" width=\"100\" x=\"0\" y=\"0\">\n",
       "<line stroke=\"rgb(0,0,0)\" stroke-width=\"2.0\" x1=\"146.9\" x2=\"146.9\" y1=\"280.0\" y2=\"307.0\"/>\n",
       "<line stroke=\"rgb(0,0,0)\" stroke-width=\"2.0\" x1=\"140.9\" x2=\"140.9\" y1=\"280.0\" y2=\"307.0\"/>\n",
       "<line stroke=\"rgb(0,0,0)\" stroke-width=\"2.0\" x1=\"143.9\" x2=\"120.5\" y1=\"280.0\" y2=\"266.5\"/>\n",
       "<polygon fill=\"rgb(0,0,0)\" points=\"109.282032 220.000000 113.282032 246.800000 105.282032 246.800000 \" stroke=\"rgb(0,0,0)\" stroke-width=\"2.000000\"/>\n",
       "<line stroke=\"rgb(0,0,0)\" stroke-width=\"1.0\" x1=\"108.5\" x2=\"110.1\" y1=\"132.0\" y2=\"132.0\"/>\n",
       "<line stroke=\"rgb(0,0,0)\" stroke-width=\"1.0\" x1=\"107.8\" x2=\"110.7\" y1=\"125.6\" y2=\"125.6\"/>\n",
       "<line stroke=\"rgb(0,0,0)\" stroke-width=\"1.0\" x1=\"107.2\" x2=\"111.4\" y1=\"119.2\" y2=\"119.2\"/>\n",
       "<line stroke=\"rgb(0,0,0)\" stroke-width=\"1.0\" x1=\"106.6\" x2=\"112.0\" y1=\"112.8\" y2=\"112.8\"/>\n",
       "<line stroke=\"rgb(0,0,0)\" stroke-width=\"1.0\" x1=\"105.9\" x2=\"112.6\" y1=\"106.4\" y2=\"106.4\"/>\n",
       "<line stroke=\"rgb(0,0,0)\" stroke-width=\"1.0\" x1=\"105.3\" x2=\"113.3\" y1=\"100.0\" y2=\"100.0\"/>\n",
       "<line stroke=\"rgb(0,0,0)\" stroke-width=\"2.0\" x1=\"109.3\" x2=\"132.7\" y1=\"100.0\" y2=\"86.5\"/>\n",
       "<line stroke=\"rgb(0,0,0)\" stroke-width=\"1.0\" x1=\"149.0\" x2=\"148.2\" y1=\"202.0\" y2=\"203.4\"/>\n",
       "<line stroke=\"rgb(0,0,0)\" stroke-width=\"1.0\" x1=\"153.0\" x2=\"151.6\" y1=\"203.6\" y2=\"206.1\"/>\n",
       "<line stroke=\"rgb(0,0,0)\" stroke-width=\"1.0\" x1=\"157.0\" x2=\"155.0\" y1=\"205.2\" y2=\"208.8\"/>\n",
       "<line stroke=\"rgb(0,0,0)\" stroke-width=\"1.0\" x1=\"161.1\" x2=\"158.3\" y1=\"206.8\" y2=\"211.5\"/>\n",
       "<line stroke=\"rgb(0,0,0)\" stroke-width=\"1.0\" x1=\"165.1\" x2=\"161.7\" y1=\"208.3\" y2=\"214.2\"/>\n",
       "<line stroke=\"rgb(0,0,0)\" stroke-width=\"1.0\" x1=\"169.1\" x2=\"165.1\" y1=\"209.9\" y2=\"216.9\"/>\n",
       "<line stroke=\"rgb(0,0,0)\" stroke-width=\"1.0\" x1=\"70.4\" x2=\"69.6\" y1=\"203.4\" y2=\"202.0\"/>\n",
       "<line stroke=\"rgb(0,0,0)\" stroke-width=\"1.0\" x1=\"67.0\" x2=\"65.6\" y1=\"206.1\" y2=\"203.6\"/>\n",
       "<line stroke=\"rgb(0,0,0)\" stroke-width=\"1.0\" x1=\"63.6\" x2=\"61.5\" y1=\"208.8\" y2=\"205.2\"/>\n",
       "<line stroke=\"rgb(0,0,0)\" stroke-width=\"1.0\" x1=\"60.2\" x2=\"57.5\" y1=\"211.5\" y2=\"206.8\"/>\n",
       "<line stroke=\"rgb(0,0,0)\" stroke-width=\"1.0\" x1=\"56.8\" x2=\"53.5\" y1=\"214.2\" y2=\"208.3\"/>\n",
       "<line stroke=\"rgb(0,0,0)\" stroke-width=\"1.0\" x1=\"53.4\" x2=\"49.4\" y1=\"216.9\" y2=\"209.9\"/>\n",
       "<polygon fill=\"rgb(0,0,0)\" points=\"143.923048 160.000000 165.132529 143.135898 169.132529 150.064102 \" stroke=\"rgb(0,0,0)\" stroke-width=\"2.000000\"/>\n",
       "<line stroke=\"rgb(0,0,0)\" stroke-width=\"2.0\" x1=\"98.0\" x2=\"85.9\" y1=\"266.5\" y2=\"273.5\"/>\n",
       "<line stroke=\"rgb(0,0,0)\" stroke-width=\"2.0\" x1=\"40.0\" x2=\"40.0\" y1=\"233.0\" y2=\"247.0\"/>\n",
       "<line stroke=\"rgb(0,0,0)\" stroke-width=\"2.0\" x1=\"143.9\" x2=\"143.9\" y1=\"67.0\" y2=\"53.0\"/>\n",
       "<line stroke=\"rgb(0,0,0)\" stroke-width=\"2.0\" x1=\"178.6\" x2=\"178.6\" y1=\"127.0\" y2=\"113.0\"/>\n",
       "<line stroke=\"rgb(0,0,0)\" stroke-width=\"2.0\" x1=\"178.6\" x2=\"178.6\" y1=\"233.0\" y2=\"247.0\"/>\n",
       "<line stroke=\"rgb(0,0,0)\" stroke-width=\"2.0\" x1=\"74.6\" x2=\"109.3\" y1=\"200.0\" y2=\"220.0\"/>\n",
       "<line stroke=\"rgb(0,0,0)\" stroke-width=\"2.0\" x1=\"109.3\" x2=\"143.9\" y1=\"220.0\" y2=\"200.0\"/>\n",
       "<line stroke=\"rgb(0,0,0)\" stroke-width=\"2.0\" x1=\"143.9\" x2=\"143.9\" y1=\"200.0\" y2=\"160.0\"/>\n",
       "<line stroke=\"rgb(0,0,0)\" stroke-width=\"2.0\" x1=\"143.9\" x2=\"109.3\" y1=\"160.0\" y2=\"140.0\"/>\n",
       "<line stroke=\"rgb(0,0,0)\" stroke-width=\"2.0\" x1=\"109.3\" x2=\"85.9\" y1=\"140.0\" y2=\"153.5\"/>\n",
       "<line stroke=\"rgb(0,0,0)\" stroke-width=\"2.0\" x1=\"74.6\" x2=\"74.6\" y1=\"173.0\" y2=\"200.0\"/>\n",
       "<text fill=\"rgb(255,12,12)\" font-size=\"16\" stroke=\"rgb(255,12,12)\" stroke-width=\"1\" x=\"137.923048\" y=\"88.000000\">O</text>\n",
       "<text fill=\"rgb(191,191,191)\" font-size=\"16\" stroke=\"rgb(191,191,191)\" stroke-width=\"1\" x=\"172.564065\" y=\"268.000000\">H</text>\n",
       "<text fill=\"rgb(191,191,191)\" font-size=\"16\" stroke=\"rgb(191,191,191)\" stroke-width=\"1\" x=\"172.564065\" y=\"108.000000\">H</text>\n",
       "<text fill=\"rgb(191,191,191)\" font-size=\"16\" stroke=\"rgb(191,191,191)\" stroke-width=\"1\" x=\"137.923048\" y=\"48.000000\">H</text>\n",
       "<text fill=\"rgb(191,191,191)\" font-size=\"16\" stroke=\"rgb(191,191,191)\" stroke-width=\"1\" x=\"34.000000\" y=\"268.000000\">H</text>\n",
       "<text fill=\"rgb(191,191,191)\" font-size=\"16\" stroke=\"rgb(191,191,191)\" stroke-width=\"1\" x=\"68.641016\" y=\"288.000000\">H</text>\n",
       "<text fill=\"rgb(255,12,12)\" font-size=\"16\" stroke=\"rgb(255,12,12)\" stroke-width=\"1\" x=\"172.564065\" y=\"228.000000\">O</text>\n",
       "<text fill=\"rgb(255,12,12)\" font-size=\"16\" stroke=\"rgb(255,12,12)\" stroke-width=\"1\" x=\"172.564065\" y=\"148.000000\">O</text>\n",
       "<text fill=\"rgb(255,12,12)\" font-size=\"16\" stroke=\"rgb(255,12,12)\" stroke-width=\"1\" x=\"68.641016\" y=\"168.000000\">O</text>\n",
       "<text fill=\"rgb(255,12,12)\" font-size=\"16\" stroke=\"rgb(255,12,12)\" stroke-width=\"1\" x=\"34.000000\" y=\"228.000000\">O</text>\n",
       "<text fill=\"rgb(12,12,255)\" font-size=\"16\" stroke=\"rgb(12,12,255)\" stroke-width=\"1\" x=\"103.282032\" y=\"268.000000\">N</text>\n",
       "<text fill=\"rgb(255,12,12)\" font-size=\"16\" stroke=\"rgb(255,12,12)\" stroke-width=\"1\" x=\"137.923048\" y=\"328.000000\">O</text>\n",
       "</svg>\n",
       "</g>\n",
       "<text fill=\"black\" font-family=\"sans-serif\" font-size=\"18.000000\" x=\"10.000000\" y=\"20.000000\">*****</text>\n",
       "</svg>"
      ]
     },
     "metadata": {},
     "output_type": "display_data"
    },
    {
     "data": {
      "image/svg+xml": [
       "<svg height=\"200px\" id=\"topsvg\" version=\"1.1\" viewBox=\"0 0 100 100\" width=\"200px\" x=\"0\" xmlns=\"http://www.w3.org/2000/svg\" xmlns:cml=\"http://www.xml-cml.org/schema\" xmlns:xlink=\"http://www.w3.org/1999/xlink\" y=\"0\">\n",
       "<title>***** - Open Babel Depiction</title>\n",
       "<rect fill=\"white\" height=\"100\" width=\"100\" x=\"0\" y=\"0\"/>\n",
       "<g transform=\"translate(0,0)\">\n",
       "<svg font-family=\"sans-serif\" height=\"100\" stroke=\"rgb(0,0,0)\" stroke-linecap=\"round\" stroke-width=\"2\" viewBox=\"0 0 357.128 280\" width=\"100\" x=\"0\" y=\"0\">\n",
       "<line stroke=\"rgb(0,0,0)\" stroke-width=\"2.0\" x1=\"109.3\" x2=\"143.9\" y1=\"100.0\" y2=\"120.0\"/>\n",
       "<line stroke=\"rgb(0,0,0)\" stroke-width=\"2.0\" x1=\"146.9\" x2=\"146.9\" y1=\"120.0\" y2=\"147.0\"/>\n",
       "<line stroke=\"rgb(0,0,0)\" stroke-width=\"2.0\" x1=\"140.9\" x2=\"140.9\" y1=\"120.0\" y2=\"147.0\"/>\n",
       "<line stroke=\"rgb(0,0,0)\" stroke-width=\"2.0\" x1=\"143.9\" x2=\"167.3\" y1=\"120.0\" y2=\"106.5\"/>\n",
       "<polygon fill=\"rgb(0,0,0)\" points=\"213.205081 120.000000 187.995600 110.064102 191.995600 103.135898 \" stroke=\"rgb(0,0,0)\" stroke-width=\"2.000000\"/>\n",
       "<line stroke=\"rgb(0,0,0)\" stroke-width=\"1.0\" x1=\"289.8\" x2=\"289.0\" y1=\"163.3\" y2=\"164.7\"/>\n",
       "<line stroke=\"rgb(0,0,0)\" stroke-width=\"1.0\" x1=\"295.7\" x2=\"294.2\" y1=\"166.0\" y2=\"168.4\"/>\n",
       "<line stroke=\"rgb(0,0,0)\" stroke-width=\"1.0\" x1=\"301.5\" x2=\"299.5\" y1=\"168.6\" y2=\"172.2\"/>\n",
       "<line stroke=\"rgb(0,0,0)\" stroke-width=\"1.0\" x1=\"307.4\" x2=\"304.7\" y1=\"171.2\" y2=\"176.0\"/>\n",
       "<line stroke=\"rgb(0,0,0)\" stroke-width=\"1.0\" x1=\"313.3\" x2=\"309.9\" y1=\"173.9\" y2=\"179.7\"/>\n",
       "<line stroke=\"rgb(0,0,0)\" stroke-width=\"1.0\" x1=\"319.1\" x2=\"315.1\" y1=\"176.5\" y2=\"183.5\"/>\n",
       "<line stroke=\"rgb(0,0,0)\" stroke-width=\"2.0\" x1=\"317.1\" x2=\"317.1\" y1=\"180.0\" y2=\"207.0\"/>\n",
       "<line stroke=\"rgb(0,0,0)\" stroke-width=\"1.0\" x1=\"209.0\" x2=\"208.2\" y1=\"163.4\" y2=\"162.0\"/>\n",
       "<line stroke=\"rgb(0,0,0)\" stroke-width=\"1.0\" x1=\"205.6\" x2=\"204.1\" y1=\"166.1\" y2=\"163.6\"/>\n",
       "<line stroke=\"rgb(0,0,0)\" stroke-width=\"1.0\" x1=\"202.2\" x2=\"200.1\" y1=\"168.8\" y2=\"165.2\"/>\n",
       "<line stroke=\"rgb(0,0,0)\" stroke-width=\"1.0\" x1=\"198.8\" x2=\"196.1\" y1=\"171.5\" y2=\"166.8\"/>\n",
       "<line stroke=\"rgb(0,0,0)\" stroke-width=\"1.0\" x1=\"195.4\" x2=\"192.0\" y1=\"174.2\" y2=\"168.3\"/>\n",
       "<line stroke=\"rgb(0,0,0)\" stroke-width=\"1.0\" x1=\"192.0\" x2=\"188.0\" y1=\"176.9\" y2=\"169.9\"/>\n",
       "<line stroke=\"rgb(0,0,0)\" stroke-width=\"1.0\" x1=\"247.0\" x2=\"248.6\" y1=\"94.6\" y2=\"94.6\"/>\n",
       "<line stroke=\"rgb(0,0,0)\" stroke-width=\"1.0\" x1=\"246.4\" x2=\"249.3\" y1=\"90.4\" y2=\"90.4\"/>\n",
       "<line stroke=\"rgb(0,0,0)\" stroke-width=\"1.0\" x1=\"245.8\" x2=\"249.9\" y1=\"86.1\" y2=\"86.1\"/>\n",
       "<line stroke=\"rgb(0,0,0)\" stroke-width=\"1.0\" x1=\"245.1\" x2=\"250.6\" y1=\"81.8\" y2=\"81.8\"/>\n",
       "<line stroke=\"rgb(0,0,0)\" stroke-width=\"1.0\" x1=\"244.5\" x2=\"251.2\" y1=\"77.5\" y2=\"77.5\"/>\n",
       "<line stroke=\"rgb(0,0,0)\" stroke-width=\"1.0\" x1=\"243.8\" x2=\"251.8\" y1=\"73.2\" y2=\"73.2\"/>\n",
       "<polygon fill=\"rgb(0,0,0)\" points=\"247.846097 180.000000 251.846097 206.800000 243.846097 206.800000 \" stroke=\"rgb(0,0,0)\" stroke-width=\"2.000000\"/>\n",
       "<line stroke=\"rgb(0,0,0)\" stroke-width=\"2.0\" x1=\"178.6\" x2=\"178.6\" y1=\"87.0\" y2=\"73.0\"/>\n",
       "<line stroke=\"rgb(0,0,0)\" stroke-width=\"2.0\" x1=\"259.1\" x2=\"271.2\" y1=\"53.5\" y2=\"46.5\"/>\n",
       "<line stroke=\"rgb(0,0,0)\" stroke-width=\"2.0\" x1=\"305.9\" x2=\"293.7\" y1=\"226.5\" y2=\"233.5\"/>\n",
       "<line stroke=\"rgb(0,0,0)\" stroke-width=\"2.0\" x1=\"236.6\" x2=\"224.5\" y1=\"226.5\" y2=\"233.5\"/>\n",
       "<line stroke=\"rgb(0,0,0)\" stroke-width=\"2.0\" x1=\"178.6\" x2=\"178.6\" y1=\"193.0\" y2=\"207.0\"/>\n",
       "<line stroke=\"rgb(0,0,0)\" stroke-width=\"2.0\" x1=\"74.6\" x2=\"40.0\" y1=\"40.0\" y2=\"60.0\"/>\n",
       "<line stroke=\"rgb(0,0,0)\" stroke-width=\"2.0\" x1=\"73.0\" x2=\"48.8\" y1=\"49.2\" y2=\"63.2\"/>\n",
       "<line stroke=\"rgb(0,0,0)\" stroke-width=\"2.0\" x1=\"40.0\" x2=\"40.0\" y1=\"60.0\" y2=\"100.0\"/>\n",
       "<line stroke=\"rgb(0,0,0)\" stroke-width=\"2.0\" x1=\"40.0\" x2=\"74.6\" y1=\"100.0\" y2=\"120.0\"/>\n",
       "<line stroke=\"rgb(0,0,0)\" stroke-width=\"2.0\" x1=\"48.8\" x2=\"73.0\" y1=\"96.8\" y2=\"110.8\"/>\n",
       "<line stroke=\"rgb(0,0,0)\" stroke-width=\"2.0\" x1=\"74.6\" x2=\"109.3\" y1=\"120.0\" y2=\"100.0\"/>\n",
       "<line stroke=\"rgb(0,0,0)\" stroke-width=\"2.0\" x1=\"109.3\" x2=\"109.3\" y1=\"100.0\" y2=\"60.0\"/>\n",
       "<line stroke=\"rgb(0,0,0)\" stroke-width=\"2.0\" x1=\"102.1\" x2=\"102.1\" y1=\"94.0\" y2=\"66.0\"/>\n",
       "<line stroke=\"rgb(0,0,0)\" stroke-width=\"2.0\" x1=\"109.3\" x2=\"74.6\" y1=\"60.0\" y2=\"40.0\"/>\n",
       "<line stroke=\"rgb(0,0,0)\" stroke-width=\"2.0\" x1=\"247.8\" x2=\"213.2\" y1=\"100.0\" y2=\"120.0\"/>\n",
       "<line stroke=\"rgb(0,0,0)\" stroke-width=\"2.0\" x1=\"213.2\" x2=\"213.2\" y1=\"120.0\" y2=\"160.0\"/>\n",
       "<line stroke=\"rgb(0,0,0)\" stroke-width=\"2.0\" x1=\"213.2\" x2=\"247.8\" y1=\"160.0\" y2=\"180.0\"/>\n",
       "<line stroke=\"rgb(0,0,0)\" stroke-width=\"2.0\" x1=\"247.8\" x2=\"282.5\" y1=\"180.0\" y2=\"160.0\"/>\n",
       "<line stroke=\"rgb(0,0,0)\" stroke-width=\"2.0\" x1=\"282.5\" x2=\"282.5\" y1=\"160.0\" y2=\"133.0\"/>\n",
       "<line stroke=\"rgb(0,0,0)\" stroke-width=\"2.0\" x1=\"271.2\" x2=\"247.8\" y1=\"113.5\" y2=\"100.0\"/>\n",
       "<text fill=\"rgb(255,12,12)\" font-size=\"16\" stroke=\"rgb(255,12,12)\" stroke-width=\"1\" x=\"276.487113\" y=\"128.000000\">O</text>\n",
       "<text fill=\"rgb(191,191,191)\" font-size=\"16\" stroke=\"rgb(191,191,191)\" stroke-width=\"1\" x=\"172.564065\" y=\"228.000000\">H</text>\n",
       "<text fill=\"rgb(191,191,191)\" font-size=\"16\" stroke=\"rgb(191,191,191)\" stroke-width=\"1\" x=\"207.205081\" y=\"248.000000\">H</text>\n",
       "<text fill=\"rgb(191,191,191)\" font-size=\"16\" stroke=\"rgb(191,191,191)\" stroke-width=\"1\" x=\"276.487113\" y=\"248.000000\">H</text>\n",
       "<text fill=\"rgb(191,191,191)\" font-size=\"16\" stroke=\"rgb(191,191,191)\" stroke-width=\"1\" x=\"276.487113\" y=\"48.000000\">H</text>\n",
       "<text fill=\"rgb(191,191,191)\" font-size=\"16\" stroke=\"rgb(191,191,191)\" stroke-width=\"1\" x=\"172.564065\" y=\"68.000000\">H</text>\n",
       "<text fill=\"rgb(255,12,12)\" font-size=\"16\" stroke=\"rgb(255,12,12)\" stroke-width=\"1\" x=\"172.564065\" y=\"188.000000\">O</text>\n",
       "<text fill=\"rgb(255,12,12)\" font-size=\"16\" stroke=\"rgb(255,12,12)\" stroke-width=\"1\" x=\"241.846097\" y=\"228.000000\">O</text>\n",
       "<text fill=\"rgb(255,12,12)\" font-size=\"16\" stroke=\"rgb(255,12,12)\" stroke-width=\"1\" x=\"311.128129\" y=\"228.000000\">O</text>\n",
       "<text fill=\"rgb(255,12,12)\" font-size=\"16\" stroke=\"rgb(255,12,12)\" stroke-width=\"1\" x=\"241.846097\" y=\"68.000000\">O</text>\n",
       "<text fill=\"rgb(12,12,255)\" font-size=\"16\" stroke=\"rgb(12,12,255)\" stroke-width=\"1\" x=\"172.564065\" y=\"108.000000\">N</text>\n",
       "<text fill=\"rgb(255,12,12)\" font-size=\"16\" stroke=\"rgb(255,12,12)\" stroke-width=\"1\" x=\"137.923048\" y=\"168.000000\">O</text>\n",
       "</svg>\n",
       "</g>\n",
       "<text fill=\"black\" font-family=\"sans-serif\" font-size=\"18.000000\" x=\"10.000000\" y=\"20.000000\">*****</text>\n",
       "</svg>"
      ]
     },
     "metadata": {},
     "output_type": "display_data"
    },
    {
     "data": {
      "image/svg+xml": [
       "<svg height=\"200px\" id=\"topsvg\" version=\"1.1\" viewBox=\"0 0 100 100\" width=\"200px\" x=\"0\" xmlns=\"http://www.w3.org/2000/svg\" xmlns:cml=\"http://www.xml-cml.org/schema\" xmlns:xlink=\"http://www.w3.org/1999/xlink\" y=\"0\">\n",
       "<title>***** - Open Babel Depiction</title>\n",
       "<rect fill=\"white\" height=\"100\" width=\"100\" x=\"0\" y=\"0\"/>\n",
       "<g transform=\"translate(0,0)\">\n",
       "<svg font-family=\"sans-serif\" height=\"100\" stroke=\"rgb(0,0,0)\" stroke-linecap=\"round\" stroke-width=\"2\" viewBox=\"0 0 357.128 320\" width=\"100\" x=\"0\" y=\"0\">\n",
       "<line stroke=\"rgb(0,0,0)\" stroke-width=\"2.0\" x1=\"304.4\" x2=\"281.0\" y1=\"96.1\" y2=\"82.6\"/>\n",
       "<line stroke=\"rgb(0,0,0)\" stroke-width=\"2.0\" x1=\"307.4\" x2=\"284.0\" y1=\"90.9\" y2=\"77.4\"/>\n",
       "<line stroke=\"rgb(0,0,0)\" stroke-width=\"2.0\" x1=\"282.5\" x2=\"282.5\" y1=\"80.0\" y2=\"53.0\"/>\n",
       "<line stroke=\"rgb(0,0,0)\" stroke-width=\"2.0\" x1=\"282.5\" x2=\"247.8\" y1=\"80.0\" y2=\"100.0\"/>\n",
       "<line stroke=\"rgb(0,0,0)\" stroke-width=\"2.0\" x1=\"246.3\" x2=\"223.0\" y1=\"102.6\" y2=\"89.1\"/>\n",
       "<line stroke=\"rgb(0,0,0)\" stroke-width=\"2.0\" x1=\"249.3\" x2=\"226.0\" y1=\"97.4\" y2=\"83.9\"/>\n",
       "<line stroke=\"rgb(0,0,0)\" stroke-width=\"2.0\" x1=\"247.8\" x2=\"247.8\" y1=\"100.0\" y2=\"127.0\"/>\n",
       "<line stroke=\"rgb(0,0,0)\" stroke-width=\"1.0\" x1=\"217.4\" x2=\"218.2\" y1=\"156.6\" y2=\"158.0\"/>\n",
       "<line stroke=\"rgb(0,0,0)\" stroke-width=\"1.0\" x1=\"220.8\" x2=\"222.3\" y1=\"153.9\" y2=\"156.4\"/>\n",
       "<line stroke=\"rgb(0,0,0)\" stroke-width=\"1.0\" x1=\"224.2\" x2=\"226.3\" y1=\"151.2\" y2=\"154.8\"/>\n",
       "<line stroke=\"rgb(0,0,0)\" stroke-width=\"1.0\" x1=\"227.6\" x2=\"230.3\" y1=\"148.5\" y2=\"153.2\"/>\n",
       "<line stroke=\"rgb(0,0,0)\" stroke-width=\"1.0\" x1=\"231.0\" x2=\"234.4\" y1=\"145.8\" y2=\"151.7\"/>\n",
       "<line stroke=\"rgb(0,0,0)\" stroke-width=\"1.0\" x1=\"234.4\" x2=\"238.4\" y1=\"143.1\" y2=\"150.1\"/>\n",
       "<polygon fill=\"rgb(0,0,0)\" points=\"143.923048 200.000000 111.282032 223.464102 107.282032 216.535898 \" stroke=\"rgb(0,0,0)\" stroke-width=\"2.000000\"/>\n",
       "<line stroke=\"rgb(0,0,0)\" stroke-width=\"2.0\" x1=\"109.3\" x2=\"85.9\" y1=\"220.0\" y2=\"206.5\"/>\n",
       "<polygon fill=\"rgb(0,0,0)\" points=\"213.205081 200.000000 238.414562 209.935898 234.414562 216.864102 \" stroke=\"rgb(0,0,0)\" stroke-width=\"2.000000\"/>\n",
       "<polygon fill=\"rgb(0,0,0)\" points=\"178.564065 140.000000 174.564065 113.200000 182.564065 113.200000 \" stroke=\"rgb(0,0,0)\" stroke-width=\"2.000000\"/>\n",
       "<line stroke=\"rgb(0,0,0)\" stroke-width=\"1.0\" x1=\"179.4\" x2=\"177.8\" y1=\"225.4\" y2=\"225.4\"/>\n",
       "<line stroke=\"rgb(0,0,0)\" stroke-width=\"1.0\" x1=\"180.0\" x2=\"177.1\" y1=\"229.6\" y2=\"229.6\"/>\n",
       "<line stroke=\"rgb(0,0,0)\" stroke-width=\"1.0\" x1=\"180.6\" x2=\"176.5\" y1=\"233.9\" y2=\"233.9\"/>\n",
       "<line stroke=\"rgb(0,0,0)\" stroke-width=\"1.0\" x1=\"181.3\" x2=\"175.8\" y1=\"238.2\" y2=\"238.2\"/>\n",
       "<line stroke=\"rgb(0,0,0)\" stroke-width=\"1.0\" x1=\"181.9\" x2=\"175.2\" y1=\"242.5\" y2=\"242.5\"/>\n",
       "<line stroke=\"rgb(0,0,0)\" stroke-width=\"1.0\" x1=\"182.6\" x2=\"174.6\" y1=\"246.8\" y2=\"246.8\"/>\n",
       "<line stroke=\"rgb(0,0,0)\" stroke-width=\"2.0\" x1=\"259.1\" x2=\"271.2\" y1=\"146.5\" y2=\"153.5\"/>\n",
       "<line stroke=\"rgb(0,0,0)\" stroke-width=\"2.0\" x1=\"167.3\" x2=\"155.2\" y1=\"93.5\" y2=\"86.5\"/>\n",
       "<line stroke=\"rgb(0,0,0)\" stroke-width=\"2.0\" x1=\"63.4\" x2=\"51.3\" y1=\"206.5\" y2=\"213.5\"/>\n",
       "<line stroke=\"rgb(0,0,0)\" stroke-width=\"2.0\" x1=\"189.8\" x2=\"201.9\" y1=\"266.5\" y2=\"273.5\"/>\n",
       "<line stroke=\"rgb(0,0,0)\" stroke-width=\"2.0\" x1=\"259.1\" x2=\"271.2\" y1=\"213.5\" y2=\"206.5\"/>\n",
       "<line stroke=\"rgb(0,0,0)\" stroke-width=\"2.0\" x1=\"178.6\" x2=\"213.2\" y1=\"140.0\" y2=\"160.0\"/>\n",
       "<line stroke=\"rgb(0,0,0)\" stroke-width=\"2.0\" x1=\"213.2\" x2=\"213.2\" y1=\"160.0\" y2=\"200.0\"/>\n",
       "<line stroke=\"rgb(0,0,0)\" stroke-width=\"2.0\" x1=\"213.2\" x2=\"178.6\" y1=\"200.0\" y2=\"220.0\"/>\n",
       "<line stroke=\"rgb(0,0,0)\" stroke-width=\"2.0\" x1=\"178.6\" x2=\"143.9\" y1=\"220.0\" y2=\"200.0\"/>\n",
       "<line stroke=\"rgb(0,0,0)\" stroke-width=\"2.0\" x1=\"143.9\" x2=\"143.9\" y1=\"200.0\" y2=\"173.0\"/>\n",
       "<line stroke=\"rgb(0,0,0)\" stroke-width=\"2.0\" x1=\"155.2\" x2=\"178.6\" y1=\"153.5\" y2=\"140.0\"/>\n",
       "<text fill=\"rgb(191,191,191)\" font-size=\"16\" stroke=\"rgb(191,191,191)\" stroke-width=\"1\" x=\"276.487113\" y=\"208.000000\">H</text>\n",
       "<text fill=\"rgb(191,191,191)\" font-size=\"16\" stroke=\"rgb(191,191,191)\" stroke-width=\"1\" x=\"207.205081\" y=\"288.000000\">H</text>\n",
       "<text fill=\"rgb(191,191,191)\" font-size=\"16\" stroke=\"rgb(191,191,191)\" stroke-width=\"1\" x=\"34.000000\" y=\"228.000000\">H</text>\n",
       "<text fill=\"rgb(191,191,191)\" font-size=\"16\" stroke=\"rgb(191,191,191)\" stroke-width=\"1\" x=\"137.923048\" y=\"88.000000\">H</text>\n",
       "<text fill=\"rgb(191,191,191)\" font-size=\"16\" stroke=\"rgb(191,191,191)\" stroke-width=\"1\" x=\"276.487113\" y=\"168.000000\">H</text>\n",
       "<text fill=\"rgb(255,12,12)\" font-size=\"16\" stroke=\"rgb(255,12,12)\" stroke-width=\"1\" x=\"241.846097\" y=\"228.000000\">O</text>\n",
       "<text fill=\"rgb(255,12,12)\" font-size=\"16\" stroke=\"rgb(255,12,12)\" stroke-width=\"1\" x=\"172.564065\" y=\"268.000000\">O</text>\n",
       "<text fill=\"rgb(255,12,12)\" font-size=\"16\" stroke=\"rgb(255,12,12)\" stroke-width=\"1\" x=\"68.641016\" y=\"208.000000\">O</text>\n",
       "<text fill=\"rgb(255,12,12)\" font-size=\"16\" stroke=\"rgb(255,12,12)\" stroke-width=\"1\" x=\"311.128129\" y=\"108.000000\">O</text>\n",
       "<text fill=\"rgb(255,12,12)\" font-size=\"16\" stroke=\"rgb(255,12,12)\" stroke-width=\"1\" x=\"137.923048\" y=\"168.000000\">O</text>\n",
       "<text fill=\"rgb(255,12,12)\" font-size=\"16\" stroke=\"rgb(255,12,12)\" stroke-width=\"1\" x=\"172.564065\" y=\"108.000000\">O</text>\n",
       "<text fill=\"rgb(12,12,255)\" font-size=\"16\" stroke=\"rgb(12,12,255)\" stroke-width=\"1\" x=\"241.846097\" y=\"148.000000\">N</text>\n",
       "<text fill=\"rgb(255,12,12)\" font-size=\"16\" stroke=\"rgb(255,12,12)\" stroke-width=\"1\" x=\"207.205081\" y=\"88.000000\">O</text>\n",
       "<text fill=\"rgb(255,12,12)\" font-size=\"16\" stroke=\"rgb(255,12,12)\" stroke-width=\"1\" x=\"276.487113\" y=\"48.000000\">OH</text>\n",
       "</svg>\n",
       "</g>\n",
       "<text fill=\"black\" font-family=\"sans-serif\" font-size=\"18.000000\" x=\"10.000000\" y=\"20.000000\">*****</text>\n",
       "</svg>"
      ]
     },
     "metadata": {},
     "output_type": "display_data"
    }
   ],
   "source": [
    "smilesNAG = ['CC(=O)N[C@H]1[C@H](O)O[C@H](CO)[C@@H](O)[C@@H]1O']\n",
    "all_smiles = ['CC(=O)N[C@H]1[C@H](O)O[C@H](CO)[C@@H](O)[C@@H]1O',               # original\n",
    "             'OC(=O)N[C@H]1[C@H](O)O[C@H](CO)[C@@H](O)[C@@H]1O',                # OH       \n",
    "             '[NH3+]C(=O)N[C@H]1[C@H](O)O[C@H](CO)[C@@H](O)[C@@H]1O',           # NH3+\n",
    "             'C(=O)N[C@H]1[C@H](O)O[C@H](CO)[C@@H](O)[C@@H]1O',                 # H\n",
    "             'C2=CC=C(C=C2)C(=O)N[C@H]1[C@H](O)O[C@H](CO)[C@@H](O)[C@@H]1O',    # Ph\n",
    "             '[O-]C(=O)C(=O)N[C@H]1[C@H](O)O[C@H](CO)[C@@H](O)[C@@H]1O']        # COO-\n",
    "mols= []\n",
    "images =[]\n",
    "\n",
    "for s in all_smiles:\n",
    "    m = oddt.toolkit.readstring('smi', s)\n",
    "    if not m.OBMol.Has3D(): \n",
    "        m.make3D(forcefield='mmff94', steps=150)\n",
    "        m.removeh()\n",
    "        m.OBMol.AddPolarHydrogens()\n",
    "\n",
    "    mols.append(m)\n",
    "    ###with print m.OBMol.Has3D() was found that:\n",
    "    ### deep copy needed to keep 3D , write svg make mols flat\n",
    "    images.append((SVG(copy.deepcopy(m).write('svg'))))\n",
    "\n",
    "display_svg(*images)"
   ]
  },
  {
   "cell_type": "markdown",
   "metadata": {},
   "source": [
    "### Докинг"
   ]
  },
  {
   "cell_type": "code",
   "execution_count": 8,
   "metadata": {},
   "outputs": [
    {
     "name": "stdout",
     "output_type": "stream",
     "text": [
      "/tmp/autodock_vina_cxEUSJ\n"
     ]
    },
    {
     "data": {
      "text/html": [
       "<b>Параметры докинга</b>"
      ],
      "text/plain": [
       "<IPython.core.display.HTML object>"
      ]
     },
     "metadata": {},
     "output_type": "display_data"
    },
    {
     "name": "stdout",
     "output_type": "stream",
     "text": [
      "Координаты центра\n",
      "--center_x 40.7385450082 --center_y 30.4164680851 --center_z 22.7187446809\n",
      "Количество точек по каждой оси\n",
      "--size_x 20 --size_y 20 --size_z 20\n",
      "Ускорители\n",
      "--cpu 1\n",
      "Насколько глубоко ведется поиск (полнота алгоритма)\n",
      "--exhaustiveness 8\n",
      "Наибольшее число объектов связываний, которое может быть сгенерировано\n",
      "--num_modes 3\n",
      "Максимально допустимый разброс энергии между ллучшим и худшим вариантом связывания\n",
      "--energy_range 3\n"
     ]
    }
   ],
   "source": [
    "dock_obj= oddt.docking.AutodockVina.autodock_vina(\n",
    "    protein=prot,size=(20,20,20),center=center,\n",
    "    executable='/usr/bin/vina',autocleanup=True, num_modes=3)\n",
    "\n",
    "print dock_obj.tmp_dir\n",
    "#print \" \".join(dock_obj.params) # Опишите выдачу\n",
    "display(HTML('<b>Параметры докинга</b>'))\n",
    "print 'Координаты центра'\n",
    "print \" \".join(dock_obj.params[:6]) \n",
    "print 'Количество точек по каждой оси'\n",
    "print \" \".join(dock_obj.params[6:12]) \n",
    "print 'Ускорители'\n",
    "print \" \".join(dock_obj.params[12:14]) \n",
    "print 'Насколько глубоко ведется поиск (полнота алгоритма)'\n",
    "print \" \".join(dock_obj.params[14:16]) \n",
    "print 'Наибольшее число объектов связываний, которое может быть сгенерировано'\n",
    "print \" \".join(dock_obj.params[16:18]) \n",
    "print 'Максимально допустимый разброс энергии между ллучшим и худшим вариантом связывания'\n",
    "print \" \".join(dock_obj.params[18:]) "
   ]
  },
  {
   "cell_type": "code",
   "execution_count": 9,
   "metadata": {
    "collapsed": true
   },
   "outputs": [],
   "source": [
    "# do it\n",
    "res = dock_obj.dock(mols,prot)"
   ]
  },
  {
   "cell_type": "code",
   "execution_count": 10,
   "metadata": {
    "collapsed": true
   },
   "outputs": [],
   "source": [
    "info = np.array([[i,r.formula, r.data['vina_affinity'],  r.data['vina_rmsd_ub'], r.residues[0].name] for i,r in enumerate(res)])"
   ]
  },
  {
   "cell_type": "code",
   "execution_count": 22,
   "metadata": {},
   "outputs": [
    {
     "data": {
      "text/html": [
       "<div>\n",
       "<style>\n",
       "    .dataframe thead tr:only-child th {\n",
       "        text-align: right;\n",
       "    }\n",
       "\n",
       "    .dataframe thead th {\n",
       "        text-align: left;\n",
       "    }\n",
       "\n",
       "    .dataframe tbody tr th {\n",
       "        vertical-align: top;\n",
       "    }\n",
       "</style>\n",
       "<table border=\"1\" class=\"dataframe\">\n",
       "  <thead>\n",
       "    <tr style=\"text-align: right;\">\n",
       "      <th></th>\n",
       "      <th>formula</th>\n",
       "      <th>residue</th>\n",
       "      <th>type</th>\n",
       "      <th>vina_affinity</th>\n",
       "      <th>vina_rmsd_ub</th>\n",
       "    </tr>\n",
       "  </thead>\n",
       "  <tbody>\n",
       "    <tr>\n",
       "      <th>12</th>\n",
       "      <td>C13H17NO6</td>\n",
       "      <td>UNL</td>\n",
       "      <td>Ph</td>\n",
       "      <td>-6.2</td>\n",
       "      <td>0.000</td>\n",
       "    </tr>\n",
       "    <tr>\n",
       "      <th>15</th>\n",
       "      <td>C8H13NO8</td>\n",
       "      <td>UNL</td>\n",
       "      <td>COO-</td>\n",
       "      <td>-6.0</td>\n",
       "      <td>0.000</td>\n",
       "    </tr>\n",
       "    <tr>\n",
       "      <th>13</th>\n",
       "      <td>C13H17NO6</td>\n",
       "      <td>UNL</td>\n",
       "      <td>Ph</td>\n",
       "      <td>-6.0</td>\n",
       "      <td>6.706</td>\n",
       "    </tr>\n",
       "    <tr>\n",
       "      <th>0</th>\n",
       "      <td>C8H15NO6</td>\n",
       "      <td>UNL</td>\n",
       "      <td>original</td>\n",
       "      <td>-5.9</td>\n",
       "      <td>0.000</td>\n",
       "    </tr>\n",
       "    <tr>\n",
       "      <th>6</th>\n",
       "      <td>C7H15N2O6</td>\n",
       "      <td>UNL</td>\n",
       "      <td>NH3+</td>\n",
       "      <td>-5.7</td>\n",
       "      <td>0.000</td>\n",
       "    </tr>\n",
       "    <tr>\n",
       "      <th>9</th>\n",
       "      <td>C7H13NO6</td>\n",
       "      <td>UNL</td>\n",
       "      <td>H</td>\n",
       "      <td>-5.7</td>\n",
       "      <td>0.000</td>\n",
       "    </tr>\n",
       "    <tr>\n",
       "      <th>3</th>\n",
       "      <td>C7H13NO7</td>\n",
       "      <td>UNL</td>\n",
       "      <td>OH</td>\n",
       "      <td>-5.7</td>\n",
       "      <td>0.000</td>\n",
       "    </tr>\n",
       "    <tr>\n",
       "      <th>10</th>\n",
       "      <td>C7H13NO6</td>\n",
       "      <td>UNL</td>\n",
       "      <td>H</td>\n",
       "      <td>-5.3</td>\n",
       "      <td>2.777</td>\n",
       "    </tr>\n",
       "    <tr>\n",
       "      <th>7</th>\n",
       "      <td>C7H15N2O6</td>\n",
       "      <td>UNL</td>\n",
       "      <td>NH3+</td>\n",
       "      <td>-5.2</td>\n",
       "      <td>5.096</td>\n",
       "    </tr>\n",
       "    <tr>\n",
       "      <th>11</th>\n",
       "      <td>C7H13NO6</td>\n",
       "      <td>UNL</td>\n",
       "      <td>H</td>\n",
       "      <td>-5.2</td>\n",
       "      <td>2.782</td>\n",
       "    </tr>\n",
       "    <tr>\n",
       "      <th>4</th>\n",
       "      <td>C7H13NO7</td>\n",
       "      <td>UNL</td>\n",
       "      <td>OH</td>\n",
       "      <td>-5.2</td>\n",
       "      <td>3.274</td>\n",
       "    </tr>\n",
       "    <tr>\n",
       "      <th>14</th>\n",
       "      <td>C13H17NO6</td>\n",
       "      <td>UNL</td>\n",
       "      <td>Ph</td>\n",
       "      <td>-5.2</td>\n",
       "      <td>2.323</td>\n",
       "    </tr>\n",
       "    <tr>\n",
       "      <th>16</th>\n",
       "      <td>C8H13NO8</td>\n",
       "      <td>UNL</td>\n",
       "      <td>COO-</td>\n",
       "      <td>-5.2</td>\n",
       "      <td>5.614</td>\n",
       "    </tr>\n",
       "    <tr>\n",
       "      <th>17</th>\n",
       "      <td>C8H13NO8</td>\n",
       "      <td>UNL</td>\n",
       "      <td>COO-</td>\n",
       "      <td>-5.2</td>\n",
       "      <td>4.271</td>\n",
       "    </tr>\n",
       "    <tr>\n",
       "      <th>5</th>\n",
       "      <td>C7H13NO7</td>\n",
       "      <td>UNL</td>\n",
       "      <td>OH</td>\n",
       "      <td>-5.1</td>\n",
       "      <td>3.479</td>\n",
       "    </tr>\n",
       "    <tr>\n",
       "      <th>1</th>\n",
       "      <td>C8H15NO6</td>\n",
       "      <td>UNL</td>\n",
       "      <td>original</td>\n",
       "      <td>-5.1</td>\n",
       "      <td>3.237</td>\n",
       "    </tr>\n",
       "    <tr>\n",
       "      <th>8</th>\n",
       "      <td>C7H15N2O6</td>\n",
       "      <td>UNL</td>\n",
       "      <td>NH3+</td>\n",
       "      <td>-5.0</td>\n",
       "      <td>5.167</td>\n",
       "    </tr>\n",
       "    <tr>\n",
       "      <th>2</th>\n",
       "      <td>C8H15NO6</td>\n",
       "      <td>UNL</td>\n",
       "      <td>original</td>\n",
       "      <td>-5.0</td>\n",
       "      <td>5.143</td>\n",
       "    </tr>\n",
       "  </tbody>\n",
       "</table>\n",
       "</div>"
      ],
      "text/plain": [
       "      formula residue      type vina_affinity vina_rmsd_ub\n",
       "12  C13H17NO6     UNL        Ph          -6.2        0.000\n",
       "15   C8H13NO8     UNL      COO-          -6.0        0.000\n",
       "13  C13H17NO6     UNL        Ph          -6.0        6.706\n",
       "0    C8H15NO6     UNL  original          -5.9        0.000\n",
       "6   C7H15N2O6     UNL      NH3+          -5.7        0.000\n",
       "9    C7H13NO6     UNL         H          -5.7        0.000\n",
       "3    C7H13NO7     UNL        OH          -5.7        0.000\n",
       "10   C7H13NO6     UNL         H          -5.3        2.777\n",
       "7   C7H15N2O6     UNL      NH3+          -5.2        5.096\n",
       "11   C7H13NO6     UNL         H          -5.2        2.782\n",
       "4    C7H13NO7     UNL        OH          -5.2        3.274\n",
       "14  C13H17NO6     UNL        Ph          -5.2        2.323\n",
       "16   C8H13NO8     UNL      COO-          -5.2        5.614\n",
       "17   C8H13NO8     UNL      COO-          -5.2        4.271\n",
       "5    C7H13NO7     UNL        OH          -5.1        3.479\n",
       "1    C8H15NO6     UNL  original          -5.1        3.237\n",
       "8   C7H15N2O6     UNL      NH3+          -5.0        5.167\n",
       "2    C8H15NO6     UNL  original          -5.0        5.143"
      ]
     },
     "execution_count": 22,
     "metadata": {},
     "output_type": "execute_result"
    }
   ],
   "source": [
    "import pandas as pd\n",
    "types = ['original']*3+['OH']*3+['NH3+']*3+['H']*3+['Ph']*3+['COO-']*3\n",
    "results = pd.DataFrame({'formula':info[:,1], \n",
    "                        'vina_affinity':info[:,2], \n",
    "                        'vina_rmsd_ub':info[:,3], \n",
    "                        'residue':info[:,4], \n",
    "                        'type':types}, \n",
    "                       index=info[:,0].astype(int)).sort_values(by='vina_affinity', ascending=False)\n",
    "results"
   ]
  },
  {
   "cell_type": "markdown",
   "metadata": {},
   "source": [
    "### Анализ докинга"
   ]
  },
  {
   "cell_type": "code",
   "execution_count": 23,
   "metadata": {},
   "outputs": [],
   "source": [
    "for i,r in enumerate(res):\n",
    "    hbs = oddt.interactions.hbonds(prot,r)\n",
    "    stack = oddt.interactions.pi_stacking(prot,r)\n",
    "    phob = oddt.interactions.hydrophobic_contacts(prot,r)"
   ]
  },
  {
   "cell_type": "code",
   "execution_count": 60,
   "metadata": {
    "collapsed": true
   },
   "outputs": [],
   "source": [
    "for i,r in enumerate(res):\n",
    "    r.write(filename='r%s.pdb' % i, format='pdb', overwrite=True)"
   ]
  },
  {
   "cell_type": "markdown",
   "metadata": {},
   "source": [
    "### Визуализируем лучший лиганд"
   ]
  },
  {
   "cell_type": "code",
   "execution_count": 61,
   "metadata": {},
   "outputs": [
    {
     "data": {
      "image/png": "[encoded data removed]",
      "text/plain": [
       "<IPython.core.display.Image object>"
      ]
     },
     "execution_count": 61,
     "metadata": {},
     "output_type": "execute_result"
    }
   ],
   "source": [
    "import __main__\n",
    "__main__.pymol_argv = ['pymol','-qc'] # Pymol: quiet and no GUI\n",
    "from time import sleep\n",
    "import pymol\n",
    "pymol.finish_launching()\n",
    "\n",
    "#for index in [1,2,3]:\n",
    "pymol.cmd.reinitialize()\n",
    "\n",
    "pymol.cmd.load('r%d.pdb'%results.index.get_values()[0])\n",
    "pymol.cmd.do('''\n",
    "    load my_prot.pdb   \n",
    "    show cartoon, my_prot\n",
    "    hide lines, my_prot\n",
    "    orient\n",
    "    zoom r1, 9\n",
    "    rotate x,150\n",
    "    png pic0.png\n",
    "''')\n",
    "    # Desired pymol commands here to produce and save figures\n",
    "sleep(2.5) # (in seconds)\n",
    "Image(filename='pic0.png')"
   ]
  },
  {
   "cell_type": "markdown",
   "metadata": {},
   "source": [
    "### Методы из статьи про ODDT, которые можно было бы использоватьв этом задании"
   ]
  },
  {
   "cell_type": "markdown",
   "metadata": {},
   "source": [
    "C помощью oodt.virtualscreening можно было бы полностью провести докинг с помощью того же Autodock Vina.\n",
    "А также можно было бы посчитать score докинга с помощью RFscore и NNscore."
   ]
  },
  {
   "cell_type": "markdown",
   "metadata": {},
   "source": [
    "#### <a href='Tikhonova. HW7.ipynb'> Download this notebook </a>"
   ]
  }
 ],
 "metadata": {
  "kernelspec": {
   "display_name": "Python 2",
   "language": "python",
   "name": "python2"
  },
  "language_info": {
   "codemirror_mode": {
    "name": "ipython",
    "version": 2
   },
   "file_extension": ".py",
   "mimetype": "text/x-python",
   "name": "python",
   "nbconvert_exporter": "python",
   "pygments_lexer": "ipython2",
   "version": "2.7.13"
  }
 },
 "nbformat": 4,
 "nbformat_minor": 2
}
